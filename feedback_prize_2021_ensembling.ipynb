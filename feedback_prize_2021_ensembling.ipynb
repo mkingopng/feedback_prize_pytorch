{
 "metadata": {
  "kernelspec": {
   "language": "python",
   "display_name": "Python 3",
   "name": "python3"
  },
  "language_info": {
   "pygments_lexer": "ipython3",
   "nbconvert_exporter": "python",
   "version": "3.6.4",
   "file_extension": ".py",
   "codemirror_mode": {
    "name": "ipython",
    "version": 3
   },
   "name": "python",
   "mimetype": "text/x-python"
  }
 },
 "nbformat_minor": 4,
 "nbformat": 4,
 "cells": [
  {
   "cell_type": "code",
   "source": [
    "import gc\n",
    "import sys\n",
    "import os\n",
    "import numpy as np\n",
    "import pandas as pd\n",
    "import tez\n",
    "import torch\n",
    "import torch.nn as nn\n",
    "from joblib import Parallel, delayed\n",
    "from transformers import AutoConfig, AutoModel, AutoTokenizer"
   ],
   "metadata": {},
   "execution_count": 29,
   "outputs": []
  },
  {
   "cell_type": "code",
   "execution_count": 30,
   "outputs": [],
   "source": [
    "gc.enable()"
   ],
   "metadata": {
    "collapsed": false,
    "pycharm": {
     "name": "#%%\n"
    }
   }
  },
  {
   "cell_type": "code",
   "execution_count": 31,
   "outputs": [
    {
     "data": {
      "text/plain": "'11.3'"
     },
     "execution_count": 31,
     "metadata": {},
     "output_type": "execute_result"
    }
   ],
   "source": [
    "torch.version.cuda"
   ],
   "metadata": {
    "collapsed": false,
    "pycharm": {
     "name": "#%%\n"
    }
   }
  },
  {
   "cell_type": "code",
   "source": [
    "target_id_map = {\n",
    "    \"B-Lead\": 0,\n",
    "    \"I-Lead\": 1,\n",
    "    \"B-Position\": 2,\n",
    "    \"I-Position\": 3,\n",
    "    \"B-Evidence\": 4,\n",
    "    \"I-Evidence\": 5,\n",
    "    \"B-Claim\": 6,\n",
    "    \"I-Claim\": 7,\n",
    "    \"B-Concluding Statement\": 8,\n",
    "    \"I-Concluding Statement\": 9,\n",
    "    \"B-Counterclaim\": 10,\n",
    "    \"I-Counterclaim\": 11,\n",
    "    \"B-Rebuttal\": 12,\n",
    "    \"I-Rebuttal\": 13,\n",
    "    \"O\": 14,\n",
    "    \"PAD\": -100,\n",
    "}\n",
    "\n",
    "\n",
    "id_target_map = {v: k for k, v in target_id_map.items()}\n",
    "\n",
    "class args1:\n",
    "    input_path = \"data\"\n",
    "    model = \"longformer-large-4096\"\n",
    "    tez_model= \"fblongformerlarge1536\"\n",
    "    output = \".\"\n",
    "    batch_size = 8\n",
    "    max_len = 4096\n",
    "    \n",
    "class args2:\n",
    "    input_path = \"data\"\n",
    "    model = \"longformer-large-4096\"\n",
    "    tez_model= \"tez-fb-large\"\n",
    "    output = \".\"\n",
    "    batch_size = 8\n",
    "    max_len = 4096\n",
    "    \n",
    "class args3:\n",
    "    input_path = \"data\"\n",
    "    model = \"longformer\"\n",
    "    tez_model= \"visionary-cherry\"\n",
    "    output = \".\"\n",
    "    batch_size = 8\n",
    "    max_len = 4096\n",
    "    \n",
    "class args4:\n",
    "    input_path = \"data\"\n",
    "    model = \"longformer\"\n",
    "    tez_model= \"curious-oath\"\n",
    "    output = \".\"\n",
    "    batch_size = 8\n",
    "    max_len = 4096"
   ],
   "metadata": {
    "execution": {
     "iopub.status.busy": "2022-01-05T18:20:25.812387Z",
     "iopub.execute_input": "2022-01-05T18:20:25.812686Z",
     "iopub.status.idle": "2022-01-05T18:20:25.822348Z",
     "shell.execute_reply.started": "2022-01-05T18:20:25.812656Z",
     "shell.execute_reply": "2022-01-05T18:20:25.821316Z"
    },
    "trusted": true
   },
   "execution_count": 32,
   "outputs": []
  },
  {
   "cell_type": "code",
   "source": [
    "class FeedbackDataset:\n",
    "    def __init__(self, samples, max_len, tokenizer):\n",
    "        self.samples = samples\n",
    "        self.max_len = max_len\n",
    "        self.tokenizer = tokenizer\n",
    "        self.length = len(samples)\n",
    "\n",
    "    def __len__(self):\n",
    "        return self.length\n",
    "\n",
    "    def __getitem__(self, idx):\n",
    "        input_ids = self.samples[idx][\"input_ids\"]\n",
    "\n",
    "        # add start token id to the input_ids\n",
    "        input_ids = [self.tokenizer.cls_token_id] + input_ids\n",
    "\n",
    "        if len(input_ids) > self.max_len - 1:\n",
    "            input_ids = input_ids[: self.max_len - 1]\n",
    "\n",
    "        # add end token id to the input_ids\n",
    "        input_ids = input_ids + [self.tokenizer.sep_token_id]\n",
    "        attention_mask = [1] * len(input_ids)\n",
    "\n",
    "        return {\n",
    "            \"ids\": input_ids,\n",
    "            \"mask\": attention_mask,\n",
    "        }"
   ],
   "metadata": {
    "execution": {
     "iopub.status.busy": "2022-01-05T18:20:26.277132Z",
     "iopub.execute_input": "2022-01-05T18:20:26.277591Z",
     "iopub.status.idle": "2022-01-05T18:20:26.28869Z",
     "shell.execute_reply.started": "2022-01-05T18:20:26.277556Z",
     "shell.execute_reply": "2022-01-05T18:20:26.287697Z"
    },
    "trusted": true
   },
   "execution_count": 33,
   "outputs": []
  },
  {
   "cell_type": "code",
   "source": [
    "class Collate:\n",
    "    def __init__(self, tokenizer):\n",
    "        self.tokenizer = tokenizer\n",
    "\n",
    "    def __call__(self, batch):\n",
    "        output = dict()\n",
    "        output[\"ids\"] = [sample[\"ids\"] for sample in batch]\n",
    "        output[\"mask\"] = [sample[\"mask\"] for sample in batch]\n",
    "\n",
    "        # calculate max token length of this batch\n",
    "        batch_max = max([len(ids) for ids in output[\"ids\"]])\n",
    "\n",
    "        # add padding\n",
    "        if self.tokenizer.padding_side == \"right\":\n",
    "            output[\"ids\"] = [s + (batch_max - len(s)) * [self.tokenizer.pad_token_id] for s in output[\"ids\"]]\n",
    "            output[\"mask\"] = [s + (batch_max - len(s)) * [0] for s in output[\"mask\"]]\n",
    "        else:\n",
    "            output[\"ids\"] = [(batch_max - len(s)) * [self.tokenizer.pad_token_id] + s for s in output[\"ids\"]]\n",
    "            output[\"mask\"] = [(batch_max - len(s)) * [0] + s for s in output[\"mask\"]]\n",
    "\n",
    "        # convert to tensors\n",
    "        output[\"ids\"] = torch.tensor(output[\"ids\"], dtype=torch.long)\n",
    "        output[\"mask\"] = torch.tensor(output[\"mask\"], dtype=torch.long)\n",
    "\n",
    "        return output"
   ],
   "metadata": {},
   "execution_count": 34,
   "outputs": []
  },
  {
   "cell_type": "code",
   "source": [
    "class FeedbackModel(tez.Model):\n",
    "    def __init__(self, model_name, num_labels):\n",
    "        super().__init__()\n",
    "        self.model_name = model_name\n",
    "        self.num_labels = num_labels\n",
    "        config = AutoConfig.from_pretrained(model_name)\n",
    "\n",
    "        hidden_dropout_prob: float = 0.18\n",
    "        layer_norm_eps: float = 17589e-7\n",
    "        config.update(\n",
    "            {\n",
    "                \"output_hidden_states\": True,\n",
    "                \"hidden_dropout_prob\": hidden_dropout_prob,\n",
    "                \"layer_norm_eps\": layer_norm_eps,\n",
    "                \"add_pooling_layer\": False,\n",
    "            }\n",
    "        )\n",
    "        self.transformer = AutoModel.from_config(config)\n",
    "        self.output = nn.Linear(config.hidden_size, self.num_labels)\n",
    "\n",
    "    def forward(self, ids, mask):\n",
    "        transformer_out = self.transformer(ids, mask)\n",
    "        sequence_output = transformer_out.last_hidden_state\n",
    "        logits = self.output(sequence_output)\n",
    "        logits = torch.softmax(logits, dim=-1)\n",
    "        return logits, 0, {}"
   ],
   "metadata": {
    "execution": {
     "iopub.status.busy": "2022-01-05T18:20:26.502033Z",
     "iopub.execute_input": "2022-01-05T18:20:26.50234Z",
     "iopub.status.idle": "2022-01-05T18:20:26.511671Z",
     "shell.execute_reply.started": "2022-01-05T18:20:26.502308Z",
     "shell.execute_reply": "2022-01-05T18:20:26.510519Z"
    },
    "trusted": true
   },
   "execution_count": 35,
   "outputs": []
  },
  {
   "cell_type": "code",
   "source": [
    "def _prepare_test_data_helper(args, tokenizer, ids):\n",
    "    test_samples = []\n",
    "    for idx in ids:\n",
    "        filename = os.path.join(args.input_path, \"test\", idx + \".txt\")\n",
    "        with open(filename, \"r\") as f:\n",
    "            text = f.read()\n",
    "\n",
    "        encoded_text = tokenizer.encode_plus(\n",
    "            text,\n",
    "            add_special_tokens=False,\n",
    "            return_offsets_mapping=True,\n",
    "        )\n",
    "        input_ids = encoded_text[\"input_ids\"]\n",
    "        offset_mapping = encoded_text[\"offset_mapping\"]\n",
    "\n",
    "        sample = {\n",
    "            \"id\": idx,\n",
    "            \"input_ids\": input_ids,\n",
    "            \"text\": text,\n",
    "            \"offset_mapping\": offset_mapping,\n",
    "        }\n",
    "\n",
    "        test_samples.append(sample)\n",
    "    return test_samples\n",
    "\n",
    "\n",
    "def prepare_test_data(df, tokenizer, args):\n",
    "    test_samples = []\n",
    "    ids = df[\"id\"].unique()\n",
    "    ids_splits = np.array_split(ids, 4)\n",
    "\n",
    "    results = Parallel(n_jobs=4, backend=\"multiprocessing\")(\n",
    "        delayed(_prepare_test_data_helper)(args, tokenizer, idx) for idx in ids_splits\n",
    "    )\n",
    "    for result in results:\n",
    "        test_samples.extend(result)\n",
    "\n",
    "    return test_samples"
   ],
   "metadata": {
    "execution": {
     "iopub.status.busy": "2022-01-05T18:20:26.715129Z",
     "iopub.execute_input": "2022-01-05T18:20:26.715408Z",
     "iopub.status.idle": "2022-01-05T18:20:26.725686Z",
     "shell.execute_reply.started": "2022-01-05T18:20:26.715365Z",
     "shell.execute_reply": "2022-01-05T18:20:26.724696Z"
    },
    "trusted": true
   },
   "execution_count": 36,
   "outputs": []
  },
  {
   "cell_type": "code",
   "source": [
    "df = pd.read_csv(os.path.join(\"data\", \"sample_submission.csv\"))\n",
    "df_ids = df[\"id\"].unique()\n",
    "\n",
    "tokenizer = AutoTokenizer.from_pretrained(args1.model)\n",
    "test_samples = prepare_test_data(df, tokenizer, args1)\n",
    "collate = Collate(tokenizer=tokenizer)\n",
    "\n",
    "raw_preds = []\n",
    "for fold_ in range(10):\n",
    "    current_idx = 0\n",
    "    test_dataset = FeedbackDataset(test_samples, args1.max_len, tokenizer)\n",
    "    \n",
    "    if fold_ < 5:\n",
    "        model = FeedbackModel(model_name=args1.model, num_labels=len(target_id_map) - 1)\n",
    "        model.load(os.path.join(args1.tez_model, f\"model_{fold_}.bin\"), weights_only=True)\n",
    "        preds_iter = model.predict(test_dataset, batch_size=args1.batch_size, n_jobs=-1, collate_fn=collate)\n",
    "\n",
    "    elif fold_ in range(5, 9):\n",
    "        model = FeedbackModel(model_name=args2.model, num_labels=len(target_id_map) - 1)\n",
    "        model.load(os.path.join(args2.tez_model, f\"model_{fold_-5}.bin\"), weights_only=True)\n",
    "        preds_iter = model.predict(test_dataset, batch_size=args2.batch_size, n_jobs=-1, collate_fn=collate)\n",
    "\n",
    "    elif fold_ in range(10, 14):\n",
    "        model = FeedbackModel(model_name=args3.model, num_labels=len(target_id_map) - 1)\n",
    "        model.load(os.path.join(args3.tez_model, f\"model_{fold_-10}.bin\"), weights_only=True)\n",
    "        preds_iter = model.predict(test_dataset, batch_size=args3.batch_size, n_jobs=-1, collate_fn=collate)\n",
    "        \n",
    "    elif fold_ in range(15, 19):\n",
    "        model = FeedbackModel(model_name=args4.model, num_labels=len(target_id_map) - 1)\n",
    "        model.load(os.path.join(args4.tez_model, f\"model_{fold_-15}.bin\"), weights_only=True)\n",
    "        preds_iter = model.predict(test_dataset, batch_size=args4.batch_size, n_jobs=-1, collate_fn=collate)\n",
    "        \n",
    "    current_idx = 0\n",
    "    \n",
    "    for preds in preds_iter:\n",
    "        preds = preds.astype(np.float16)\n",
    "        preds = preds / 20\n",
    "        if fold_ == 0:\n",
    "            raw_preds.append(preds)\n",
    "        else:\n",
    "            raw_preds[current_idx] += preds\n",
    "            current_idx += 1\n",
    "    torch.cuda.empty_cache()\n",
    "    gc.collect()"
   ],
   "metadata": {},
   "execution_count": 37,
   "outputs": [
    {
     "name": "stderr",
     "output_type": "stream",
     "text": [
      "100%|██████████| 1/1 [00:01<00:00,  1.16s/it, stage=test]\n",
      "100%|██████████| 1/1 [00:01<00:00,  1.12s/it, stage=test]\n",
      "100%|██████████| 1/1 [00:01<00:00,  1.12s/it, stage=test]\n",
      "100%|██████████| 1/1 [00:01<00:00,  1.16s/it, stage=test]\n",
      "100%|██████████| 1/1 [00:01<00:00,  1.15s/it, stage=test]\n",
      "100%|██████████| 1/1 [00:01<00:00,  1.21s/it, stage=test]\n",
      "100%|██████████| 1/1 [00:01<00:00,  1.17s/it, stage=test]\n",
      "100%|██████████| 1/1 [00:01<00:00,  1.20s/it, stage=test]\n",
      "100%|██████████| 1/1 [00:01<00:00,  1.20s/it, stage=test]\n"
     ]
    }
   ]
  },
  {
   "cell_type": "code",
   "source": "final_preds = []\nfinal_scores = []\n\nfor rp in raw_preds:\n    pred_class = np.argmax(rp, axis=2)\n    pred_scrs = np.max(rp, axis=2)\n    for pred, pred_scr in zip(pred_class, pred_scrs):\n        pred = pred.tolist()\n        pred_scr = pred_scr.tolist()\n        final_preds.append(pred)\n        final_scores.append(pred_scr)\n\nfor j in range(len(test_samples)):\n    tt = [id_target_map[p] for p in final_preds[j][1:]]\n    tt_score = final_scores[j][1:]\n    test_samples[j][\"preds\"] = tt\n    test_samples[j][\"pred_scores\"] = tt_score",
   "metadata": {},
   "execution_count": 38,
   "outputs": []
  },
  {
   "cell_type": "code",
   "source": "def jn(pst, start, end):\n    return \" \".join([str(x) for x in pst[start:end]])\n\n\ndef link_evidence(oof):\n    thresh = 1\n    idu = oof['id'].unique()\n    idc = idu[1]\n    eoof = oof[oof['class'] == \"Evidence\"]\n    neoof = oof[oof['class'] != \"Evidence\"]\n    for thresh2 in range(26,27, 1):\n        retval = []\n        for idv in idu:\n            for c in  ['Lead', 'Position', 'Evidence', 'Claim', 'Concluding Statement',\n                   'Counterclaim', 'Rebuttal']:\n                q = eoof[(eoof['id'] == idv) & (eoof['class'] == c)]\n                if len(q) == 0:\n                    continue\n                pst = []\n                for i,r in q.iterrows():\n                    pst = pst +[-1] + [int(x) for x in r['predictionstring'].split()]\n                start = 1\n                end = 1\n                for i in range(2,len(pst)):\n                    cur = pst[i]\n                    end = i\n                    #if pst[start] == 205:\n                    #   print(cur, pst[start], cur - pst[start])\n                    if (cur == -1 and c != 'Evidence') or ((cur == -1) and ((pst[i+1] > pst[end-1] + thresh) or (pst[i+1] - pst[start] > thresh2))):\n                        retval.append((idv, c, jn(pst, start, end)))\n                        start = i + 1\n                v = (idv, c, jn(pst, start, end+1))\n                #print(v)\n                retval.append(v)\n        roof = pd.DataFrame(retval, columns = ['id', 'class', 'predictionstring']) \n        roof = roof.merge(neoof, how='outer')\n        return roof\n    ",
   "metadata": {},
   "execution_count": 39,
   "outputs": []
  },
  {
   "cell_type": "code",
   "source": "proba_thresh = {\n    \"Lead\": 0.687,\n    \"Position\": 0.537,\n    \"Evidence\": 0.637,\n    \"Claim\": 0.537,\n    \"Concluding Statement\": 0.687,\n    \"Counterclaim\": 0.537,\n    \"Rebuttal\": 0.537,\n}\n\nmin_thresh = {\n    \"Lead\": 9,\n    \"Position\": 5,\n    \"Evidence\": 14,\n    \"Claim\": 3,\n    \"Concluding Statement\": 11,\n    \"Counterclaim\": 6,\n    \"Rebuttal\": 4,\n}\n\nsubmission = []\nfor sample_idx, sample in enumerate(test_samples):\n    preds = sample[\"preds\"]\n    offset_mapping = sample[\"offset_mapping\"]\n    sample_id = sample[\"id\"]\n    sample_text = sample[\"text\"]\n    sample_input_ids = sample[\"input_ids\"]\n    sample_pred_scores = sample[\"pred_scores\"]\n    sample_preds = []\n\n    if len(preds) < len(offset_mapping):\n        preds = preds + [\"O\"] * (len(offset_mapping) - len(preds))\n        sample_pred_scores = sample_pred_scores + [0] * (len(offset_mapping) - len(sample_pred_scores))\n    \n    idx = 0\n    phrase_preds = []\n    while idx < len(offset_mapping):\n        start, _ = offset_mapping[idx]\n        if preds[idx] != \"O\":\n            label = preds[idx][2:]\n        else:\n            label = \"O\"\n        phrase_scores = []\n        phrase_scores.append(sample_pred_scores[idx])\n        idx += 1\n        while idx < len(offset_mapping):\n            if label == \"O\":\n                matching_label = \"O\"\n            else:\n                matching_label = f\"I-{label}\"\n            if preds[idx] == matching_label:\n                _, end = offset_mapping[idx]\n                phrase_scores.append(sample_pred_scores[idx])\n                idx += 1\n            else:\n                break\n        if \"end\" in locals():\n            phrase = sample_text[start:end]\n            phrase_preds.append((phrase, start, end, label, phrase_scores))\n\n    temp_df = []\n    for phrase_idx, (phrase, start, end, label, phrase_scores) in enumerate(phrase_preds):\n        word_start = len(sample_text[:start].split())\n        word_end = word_start + len(sample_text[start:end].split())\n        word_end = min(word_end, len(sample_text.split()))\n        ps = \" \".join([str(x) for x in range(word_start, word_end)])\n        if label != \"O\":\n            if sum(phrase_scores) / len(phrase_scores) >= proba_thresh[label]:\n                if len(ps.split()) >= min_thresh[label]:\n                    temp_df.append((sample_id, label, ps))\n    \n    temp_df = pd.DataFrame(temp_df, columns=[\"id\", \"class\", \"predictionstring\"])\n    submission.append(temp_df)\n\nsubmission = pd.concat(submission).reset_index(drop=True)\nsubmission = link_evidence(submission)\nsubmission.to_csv(\"submission.csv\", index=False)",
   "metadata": {},
   "execution_count": 40,
   "outputs": [
    {
     "ename": "IndexError",
     "evalue": "index 1 is out of bounds for axis 0 with size 0",
     "output_type": "error",
     "traceback": [
      "\u001B[0;31m---------------------------------------------------------------------------\u001B[0m",
      "\u001B[0;31mIndexError\u001B[0m                                Traceback (most recent call last)",
      "Input \u001B[0;32mIn [40]\u001B[0m, in \u001B[0;36m<cell line: 76>\u001B[0;34m()\u001B[0m\n\u001B[1;32m     73\u001B[0m     submission\u001B[38;5;241m.\u001B[39mappend(temp_df)\n\u001B[1;32m     75\u001B[0m submission \u001B[38;5;241m=\u001B[39m pd\u001B[38;5;241m.\u001B[39mconcat(submission)\u001B[38;5;241m.\u001B[39mreset_index(drop\u001B[38;5;241m=\u001B[39m\u001B[38;5;28;01mTrue\u001B[39;00m)\n\u001B[0;32m---> 76\u001B[0m submission \u001B[38;5;241m=\u001B[39m \u001B[43mlink_evidence\u001B[49m\u001B[43m(\u001B[49m\u001B[43msubmission\u001B[49m\u001B[43m)\u001B[49m\n\u001B[1;32m     77\u001B[0m submission\u001B[38;5;241m.\u001B[39mto_csv(\u001B[38;5;124m\"\u001B[39m\u001B[38;5;124msubmission.csv\u001B[39m\u001B[38;5;124m\"\u001B[39m, index\u001B[38;5;241m=\u001B[39m\u001B[38;5;28;01mFalse\u001B[39;00m)\n",
      "Input \u001B[0;32mIn [39]\u001B[0m, in \u001B[0;36mlink_evidence\u001B[0;34m(oof)\u001B[0m\n\u001B[1;32m      6\u001B[0m thresh \u001B[38;5;241m=\u001B[39m \u001B[38;5;241m1\u001B[39m\n\u001B[1;32m      7\u001B[0m idu \u001B[38;5;241m=\u001B[39m oof[\u001B[38;5;124m'\u001B[39m\u001B[38;5;124mid\u001B[39m\u001B[38;5;124m'\u001B[39m]\u001B[38;5;241m.\u001B[39munique()\n\u001B[0;32m----> 8\u001B[0m idc \u001B[38;5;241m=\u001B[39m \u001B[43midu\u001B[49m\u001B[43m[\u001B[49m\u001B[38;5;241;43m1\u001B[39;49m\u001B[43m]\u001B[49m\n\u001B[1;32m      9\u001B[0m eoof \u001B[38;5;241m=\u001B[39m oof[oof[\u001B[38;5;124m'\u001B[39m\u001B[38;5;124mclass\u001B[39m\u001B[38;5;124m'\u001B[39m] \u001B[38;5;241m==\u001B[39m \u001B[38;5;124m\"\u001B[39m\u001B[38;5;124mEvidence\u001B[39m\u001B[38;5;124m\"\u001B[39m]\n\u001B[1;32m     10\u001B[0m neoof \u001B[38;5;241m=\u001B[39m oof[oof[\u001B[38;5;124m'\u001B[39m\u001B[38;5;124mclass\u001B[39m\u001B[38;5;124m'\u001B[39m] \u001B[38;5;241m!=\u001B[39m \u001B[38;5;124m\"\u001B[39m\u001B[38;5;124mEvidence\u001B[39m\u001B[38;5;124m\"\u001B[39m]\n",
      "\u001B[0;31mIndexError\u001B[0m: index 1 is out of bounds for axis 0 with size 0"
     ]
    }
   ]
  },
  {
   "cell_type": "code",
   "source": "submission.head()",
   "metadata": {
    "execution": {
     "iopub.status.busy": "2022-01-05T18:26:47.003019Z",
     "iopub.status.idle": "2022-01-05T18:26:47.004284Z",
     "shell.execute_reply.started": "2022-01-05T18:26:47.003972Z",
     "shell.execute_reply": "2022-01-05T18:26:47.004003Z"
    },
    "trusted": true
   },
   "execution_count": null,
   "outputs": []
  }
 ]
}